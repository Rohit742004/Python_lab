{
 "cells": [
  {
   "cell_type": "markdown",
   "id": "c9a6ca2b-09f7-4e98-a727-5f44dab43b6d",
   "metadata": {},
   "source": [
    "<h3>creating </h3>"
   ]
  },
  {
   "cell_type": "code",
   "execution_count": 2,
   "id": "7909506e-4279-4fbe-a82a-a7e702629c75",
   "metadata": {},
   "outputs": [
    {
     "data": {
      "text/plain": [
       "PosixPath('/home/jupyter-22cs083')"
      ]
     },
     "execution_count": 2,
     "metadata": {},
     "output_type": "execute_result"
    }
   ],
   "source": [
    "# to delete path use \"del path\"\n",
    "from pathlib import Path\n",
    "Path.home()"
   ]
  },
  {
   "cell_type": "markdown",
   "id": "3e27c2a5-f01f-46ff-b068-ae52ef2af989",
   "metadata": {},
   "source": [
    "<h3>get the home directory</h3>"
   ]
  },
  {
   "cell_type": "code",
   "execution_count": 4,
   "id": "5255e811-0f9b-446e-852c-226edafe6ffe",
   "metadata": {},
   "outputs": [
    {
     "name": "stdout",
     "output_type": "stream",
     "text": [
      "/home/jupyter-22cs083\n"
     ]
    }
   ],
   "source": [
    "#get the home directory\n",
    "homedir=Path.cwd()\n",
    "print(homedir)"
   ]
  },
  {
   "cell_type": "markdown",
   "id": "e9e04403-016c-4fe9-ad76-ae9983de1beb",
   "metadata": {},
   "source": [
    "<h3>get the nth parent directory</h3>"
   ]
  },
  {
   "cell_type": "code",
   "execution_count": 7,
   "id": "e4737730-f60e-4d56-bc53-7c5ecbd6b68d",
   "metadata": {},
   "outputs": [
    {
     "data": {
      "text/plain": [
       "PosixPath('/home')"
      ]
     },
     "execution_count": 7,
     "metadata": {},
     "output_type": "execute_result"
    }
   ],
   "source": [
    "#get the nth parent directory\n",
    "#returns how many parent directories are there\n",
    "par_dir = Path.cwd().parents[0]\n",
    "par_dir"
   ]
  },
  {
   "cell_type": "markdown",
   "id": "8a47d2d0-12ab-40d4-87ec-04ae80675ebd",
   "metadata": {},
   "source": [
    "<h3>creating path objects</h3>"
   ]
  },
  {
   "cell_type": "code",
   "execution_count": 15,
   "id": "d1973025-2891-4492-b5c8-0159f9734482",
   "metadata": {},
   "outputs": [
    {
     "name": "stdout",
     "output_type": "stream",
     "text": [
      "Myfile.txt\n"
     ]
    }
   ],
   "source": [
    "#creating path objects\n",
    "filePath=Path(\"Myfile.txt\")\n",
    "print(filePath)"
   ]
  },
  {
   "cell_type": "markdown",
   "id": "c288fe64-e726-4eff-9fef-403491049071",
   "metadata": {},
   "source": [
    "<h3>accessing file path components</h3>"
   ]
  },
  {
   "cell_type": "code",
   "execution_count": 10,
   "id": "327cc28b-75b5-4c8b-9cd6-83d46e9b512a",
   "metadata": {},
   "outputs": [
    {
     "name": "stdout",
     "output_type": "stream",
     "text": [
      "/home/jupyter-22cs083/Myimage.png\n"
     ]
    }
   ],
   "source": [
    "#accessing file path components\n",
    "print(Path.home()/\"Myimage.png\")"
   ]
  },
  {
   "cell_type": "code",
   "execution_count": 11,
   "id": "90e492ea-4f58-41b9-97ed-9008fa4625ce",
   "metadata": {},
   "outputs": [
    {
     "name": "stdout",
     "output_type": "stream",
     "text": [
      "/home\n",
      "/\n"
     ]
    }
   ],
   "source": [
    "for p in Path.home().parents:\n",
    "    print(p)"
   ]
  },
  {
   "cell_type": "markdown",
   "id": "1bb4b14c-d561-4b55-baea-f57fc6757641",
   "metadata": {},
   "source": [
    "<h3>checking whether or not a file path exists</h3>"
   ]
  },
  {
   "cell_type": "code",
   "execution_count": 14,
   "id": "ef46b8af-299e-4987-902e-223192cb8749",
   "metadata": {},
   "outputs": [
    {
     "name": "stdout",
     "output_type": "stream",
     "text": [
      "True\n"
     ]
    }
   ],
   "source": [
    "#checking whether ornot a file path exists\n",
    "fp=Path.home()/\"csecourse1.txt\"\n",
    "print(fp.exists())"
   ]
  },
  {
   "cell_type": "markdown",
   "id": "517efb06-3838-458f-b1f8-a2183c553709",
   "metadata": {
    "editable": true,
    "slideshow": {
     "slide_type": ""
    },
    "tags": []
   },
   "source": [
    "<h3>creating directories</h3>"
   ]
  },
  {
   "cell_type": "code",
   "execution_count": 23,
   "id": "f1d11e2e-715f-4962-9624-689d474dfac9",
   "metadata": {},
   "outputs": [
    {
     "name": "stdout",
     "output_type": "stream",
     "text": [
      "lib1/rack-1/csebooks\n"
     ]
    }
   ],
   "source": [
    "#creating directories\n",
    "mydir=Path(\"lib1/rack-1/csebooks\")\n",
    "print(mydir)\n",
    "mydir.mkdir(parents = True)"
   ]
  },
  {
   "cell_type": "markdown",
   "id": "e7ef487f-a4ab-4792-8ec1-e5b2bbde5302",
   "metadata": {},
   "source": [
    "<h3>verify given file is directory or not</h3>"
   ]
  },
  {
   "cell_type": "code",
   "execution_count": 26,
   "id": "e1c15a58-0fdf-46fc-b65a-938d5ff32ef3",
   "metadata": {},
   "outputs": [
    {
     "name": "stdout",
     "output_type": "stream",
     "text": [
      "False\n",
      "False\n"
     ]
    }
   ],
   "source": [
    "#verify given file is directory or not\n",
    "diretype=Path(\"Myfile.txt\")\n",
    "diretype_existing=Path(\"books\")\n",
    "print(diretype.is_dir())\n",
    "print(diretype_existing.is_dir())"
   ]
  },
  {
   "cell_type": "markdown",
   "id": "40afa26d-eade-48db-9a47-cab6787fbf64",
   "metadata": {},
   "source": [
    "<h3>create a file</h3>"
   ]
  },
  {
   "cell_type": "code",
   "execution_count": 27,
   "id": "8d5e9dd9-c65b-437b-affc-540da80e4b9e",
   "metadata": {},
   "outputs": [
    {
     "data": {
      "text/plain": [
       "True"
      ]
     },
     "execution_count": 27,
     "metadata": {},
     "output_type": "execute_result"
    }
   ],
   "source": [
    "#create a file\n",
    "ffp=Path(\"Myimage.png\")\n",
    "ffp.touch()\n",
    "ffp.exists()"
   ]
  },
  {
   "cell_type": "markdown",
   "id": "bec22cd2-3059-4201-905c-d7c70d972a56",
   "metadata": {
    "editable": true,
    "slideshow": {
     "slide_type": ""
    },
    "tags": []
   },
   "source": [
    "<h3>iterating over directory contents</h3>"
   ]
  },
  {
   "cell_type": "code",
   "execution_count": 30,
   "id": "aab8eb0a-8155-4cca-8af2-c3f59d44358b",
   "metadata": {},
   "outputs": [
    {
     "name": "stdout",
     "output_type": "stream",
     "text": [
      "/usr/src/linux-hwe-6.8-headers-6.8.0-48\n",
      "/usr/src/linux-headers-6.8.0-48-generic\n",
      "/usr/src/linux-headers-5.15.0-124\n",
      "/usr/src/python3.10\n",
      "/usr/src/linux-headers-5.15.0-124-generic\n",
      "/usr/src/linux-headers-6.8.0-45-generic\n",
      "/usr/src/linux-hwe-6.8-headers-6.8.0-45\n"
     ]
    }
   ],
   "source": [
    "#iterating over directory contents\n",
    "fpt=Path(\"/usr/src\")\n",
    "for p in fpt.iterdir():\n",
    "    print(p)"
   ]
  },
  {
   "cell_type": "code",
   "execution_count": 34,
   "id": "6a5261e5-bcc5-475f-bfc8-9315b0dd011f",
   "metadata": {},
   "outputs": [
    {
     "name": "stdout",
     "output_type": "stream",
     "text": [
      "lib/rack-1\n"
     ]
    }
   ],
   "source": [
    "fpt=Path(\"lib\")\n",
    "for p in fpt.iterdir():\n",
    "    print(p)"
   ]
  },
  {
   "cell_type": "markdown",
   "id": "ee1a8c17-f991-4fba-b052-3b4c77a9ff52",
   "metadata": {},
   "source": [
    "<h3>read a content to text file</h3>"
   ]
  },
  {
   "cell_type": "code",
   "execution_count": 36,
   "id": "1f81f3a5-5c5d-4d7d-afd3-22a438902b66",
   "metadata": {
    "editable": true,
    "slideshow": {
     "slide_type": ""
    },
    "tags": []
   },
   "outputs": [
    {
     "name": "stdout",
     "output_type": "stream",
     "text": [
      "SAMARTH METI\n",
      "2SD22CS083\n"
     ]
    }
   ],
   "source": [
    "#read a content to text file\n",
    "#open the file in read mode\n",
    "with open('csecourse1.txt',mode='r') as file:\n",
    "    #read and print each line\n",
    "    for line in file:\n",
    "        print(line.strip())"
   ]
  },
  {
   "cell_type": "markdown",
   "id": "5067d08f-0e50-4f5b-be14-2ec18f215a1f",
   "metadata": {},
   "source": [
    "<h3>write and append a data to text file</h3>"
   ]
  },
  {
   "cell_type": "code",
   "execution_count": 41,
   "id": "f0f044a4-ef79-4b3d-a4bf-cbeb8f35acb0",
   "metadata": {},
   "outputs": [
    {
     "name": "stdout",
     "output_type": "stream",
     "text": [
      "content writig done successfully\n"
     ]
    }
   ],
   "source": [
    "#write and append a data to text file\n",
    "statements=[\"cse\\n,ise\\n,aiml\"]\n",
    "with open('my_file.txt','a') as file:\n",
    "    #writing multiple lines of statements using lists:\n",
    "    file.writelines(statements)\n",
    "    ##file.write(\"hey\")\n",
    "    ##file.write(\"sdm\")\n",
    "if(file!=\"\"):\n",
    "    print(f'content writig done successfully')\n",
    "else:\n",
    "    print(f'problm in writing content to a specified file..')\n",
    "    "
   ]
  },
  {
   "cell_type": "code",
   "execution_count": 43,
   "id": "b015f382-f49a-4d42-a7f4-35b86636af49",
   "metadata": {
    "scrolled": true
   },
   "outputs": [
    {
     "name": "stdout",
     "output_type": "stream",
     "text": [
      "heysdmcse\n",
      ",ise\n",
      ",aimlcse\n",
      ",ise\n",
      ",aiml\n"
     ]
    }
   ],
   "source": [
    "with open('my_file.txt',mode='r') as file:\n",
    "    for line in file:\n",
    "        print(line.strip())"
   ]
  },
  {
   "cell_type": "code",
   "execution_count": 44,
   "id": "c887f744-e8d4-428b-83e6-160c6db619a8",
   "metadata": {
    "editable": true,
    "slideshow": {
     "slide_type": ""
    },
    "tags": []
   },
   "outputs": [
    {
     "name": "stdout",
     "output_type": "stream",
     "text": [
      "content writig done successfully\n"
     ]
    }
   ],
   "source": [
    "with open('F::\\\\my_file.txt',mode='a') as file:\n",
    "    file.write(\"hey\")\n",
    "    file.write(\"sdm\")\n",
    "if(file!=\"\"):\n",
    "    print(f'content writig done successfully')\n",
    "else:\n",
    "    print(f'problm in writing content to a specified file..')\n",
    "    "
   ]
  },
  {
   "cell_type": "markdown",
   "id": "b16e0d34-bb11-495d-8506-6b1bec0ceeae",
   "metadata": {
    "editable": true,
    "slideshow": {
     "slide_type": ""
    },
    "tags": []
   },
   "source": [
    "<h3>write a python script to read n natural numbers from the file and their sum</h3>"
   ]
  },
  {
   "cell_type": "code",
   "execution_count": 46,
   "id": "4d3c0390-4fd3-4cb6-881f-d4f0641af904",
   "metadata": {
    "editable": true,
    "slideshow": {
     "slide_type": ""
    },
    "tags": []
   },
   "outputs": [
    {
     "name": "stdout",
     "output_type": "stream",
     "text": [
      "sum of first 9 natural numbers: 45\n"
     ]
    }
   ],
   "source": [
    "with open('natural_numbers.txt','r') as file:\n",
    "    n=int(file.read())\n",
    "sum_of_n=n*(n+1)//2\n",
    "print(\"sum of first\",n,\"natural numbers:\",sum_of_n)"
   ]
  },
  {
   "cell_type": "markdown",
   "id": "904e2f63-5f08-4fcb-bf8e-b4010444aadb",
   "metadata": {},
   "source": [
    "<h3>write a python script to read series of  natural numbers from the file and find sum of n numbers</h3>"
   ]
  },
  {
   "cell_type": "code",
   "execution_count": 47,
   "id": "8b97dd9a-e90c-458c-a802-e2f819e4c46f",
   "metadata": {
    "editable": true,
    "slideshow": {
     "slide_type": ""
    },
    "tags": []
   },
   "outputs": [
    {
     "name": "stdout",
     "output_type": "stream",
     "text": [
      "sum of numbers: 39\n"
     ]
    }
   ],
   "source": [
    "with open('natural_numbers.txt','r') as file:\n",
    "    total=0\n",
    "    for line in file:\n",
    "        number=int(line.rstrip())\n",
    "        total+=number\n",
    "print(\"sum of numbers:\",total)"
   ]
  },
  {
   "cell_type": "markdown",
   "id": "2b5f2497-588d-4725-a11e-4ef657f6bdd4",
   "metadata": {
    "editable": true,
    "slideshow": {
     "slide_type": ""
    },
    "tags": []
   },
   "source": [
    "<h3>pattern matchng or searching a string in the given file</h3>"
   ]
  },
  {
   "cell_type": "code",
   "execution_count": 49,
   "id": "863eeaf7-0762-4ca7-a458-e1531a088904",
   "metadata": {
    "editable": true,
    "slideshow": {
     "slide_type": ""
    },
    "tags": []
   },
   "outputs": [
    {
     "name": "stdout",
     "output_type": "stream",
     "text": [
      "heysdmcse\n",
      "\n",
      ",aimlcse\n",
      "\n"
     ]
    }
   ],
   "source": [
    "import fnmatch\n",
    "with open('my_file.txt','r') as file:\n",
    "    for line in file:\n",
    "        if fnmatch.fnmatch(line.strip(),'*cse*'):\n",
    "            print(line)"
   ]
  },
  {
   "cell_type": "markdown",
   "id": "240910cc-54c6-43de-98ac-396f6b090aeb",
   "metadata": {},
   "source": [
    "<h1>CSV FILES</h1>"
   ]
  },
  {
   "cell_type": "markdown",
   "id": "205c8b04-bd1e-4fa2-a86d-4caa2f6ebd11",
   "metadata": {},
   "source": [
    "<h3>read student marks from CSV file and display the same </h3>"
   ]
  },
  {
   "cell_type": "code",
   "execution_count": 4,
   "id": "12889831-3923-4122-94e2-d15db04ce7ad",
   "metadata": {},
   "outputs": [
    {
     "name": "stdout",
     "output_type": "stream",
     "text": [
      "['IA', 'CIA', 'SEE']\n",
      "['12', ' 34', ' 76']\n",
      "['20', ' 44', ' 86']\n",
      "['18', ' 39', ' 96']\n"
     ]
    }
   ],
   "source": [
    "#read student marks from CSV file and display the same\n",
    "import csv\n",
    "with open(\"marksdataset.csv\",mode=\"r\",encoding=\"utf-8\") as file:\n",
    "    reader = csv.reader(file)\n",
    "    for row in reader:\n",
    "        print(row)"
   ]
  },
  {
   "cell_type": "code",
   "execution_count": 8,
   "id": "2257eb4f-cc92-4cb7-b267-f97437028bb9",
   "metadata": {},
   "outputs": [
    {
     "name": "stdout",
     "output_type": "stream",
     "text": [
      "IA,CIA,SEE\n",
      "\n",
      "12, 34, 76\n",
      "\n",
      "20, 44, 86\n",
      "\n",
      "18, 39, 96\n"
     ]
    }
   ],
   "source": [
    "import csv\n",
    "from pathlib import Path\n",
    "file_path=Path('marksdataset.csv')\n",
    "with file_path.open('r') as file:\n",
    "    for row in file:\n",
    "        print(row)"
   ]
  },
  {
   "cell_type": "markdown",
   "id": "b06cf762-7154-4f6a-b957-2c1f5db0c4b2",
   "metadata": {},
   "source": [
    "<h3>write city-wise temp data stored in dict to the csv file</h3>"
   ]
  },
  {
   "cell_type": "code",
   "execution_count": 12,
   "id": "a89b1b16-e899-4d9c-99d3-544957ff0e42",
   "metadata": {},
   "outputs": [
    {
     "name": "stdout",
     "output_type": "stream",
     "text": [
      "['city', 'temp']\n",
      "city-wise temp data is written to csv file successfull\n"
     ]
    }
   ],
   "source": [
    "#write city-wise temp data stored in dict to the csv file\n",
    "import csv\n",
    "city_temps={\n",
    "    \"bengaluru\":25,\n",
    "    \"udupi\":15,\n",
    "    \"sirsi\":20\n",
    "}\n",
    "with open('tempData.csv',mode='w',newline='') as csvfile:\n",
    "    fieldnames=['city','temp']\n",
    "    writer=csv.DictWriter(csvfile,fieldnames=fieldnames)\n",
    "    print(writer.fieldnames)\n",
    "    for city,temp in city_temps.items():\n",
    "        writer.writerow({'city':city , 'temp':temp})\n",
    "print(\"city-wise temp data is written to csv file successfull\")"
   ]
  },
  {
   "cell_type": "markdown",
   "id": "74454546-f375-494b-a4fd-2f5c857272d3",
   "metadata": {},
   "source": [
    "<h3>read students IA marks and store it into a csv file</h3>"
   ]
  },
  {
   "cell_type": "code",
   "execution_count": 14,
   "id": "cd06b754-77e7-4beb-af2a-f4b0a15001ee",
   "metadata": {},
   "outputs": [
    {
     "name": "stdin",
     "output_type": "stream",
     "text": [
      "enter marks fro IA1: 14\n",
      "enter marks fro IA2: 4\n",
      "enter marks fro IA3: 17\n"
     ]
    },
    {
     "name": "stdout",
     "output_type": "stream",
     "text": [
      "marks written to csv file successfully\n"
     ]
    }
   ],
   "source": [
    "#read students IA marks and store it into a csv file\n",
    "IA1=int(input(\"enter marks fro IA1:\"))\n",
    "IA2=int(input(\"enter marks fro IA2:\"))\n",
    "IA3=int(input(\"enter marks fro IA3:\"))\n",
    "\n",
    "marks=[IA1,IA2,IA3]\n",
    "with open('IAMarks.csv','a',newline='') as csvfile:\n",
    "    writer=csv.writer(csvfile)\n",
    "    writer.writerow(marks)\n",
    "print(\"marks written to csv file successfully\")"
   ]
  },
  {
   "cell_type": "markdown",
   "id": "bc5e5790-4491-4be1-bb65-1e36765937e0",
   "metadata": {},
   "source": [
    "<h3>read and write csv file having semicolon and colon(;) and(:) as a delimiter</h3>"
   ]
  },
  {
   "cell_type": "code",
   "execution_count": 18,
   "id": "eb13ed05-0699-41c9-a4b7-7b5a0a2ee508",
   "metadata": {},
   "outputs": [
    {
     "name": "stdout",
     "output_type": "stream",
     "text": [
      "[\"'name'\", \"'roll_no'\", \"'branch'\", '']\n",
      "[\"'ram arvind'\", \"'124'\", \"'ML'\", '']\n",
      "[\"'punit r'\", \"'254'\", \"'civil eng'\", '']\n"
     ]
    }
   ],
   "source": [
    "#read and write csv file having semicolon and colon(;) and(:) as a delimiter\n",
    "import csv\n",
    "with open('DataWithDelimiter.csv','r') as file:\n",
    "    reader=csv.reader(file,delimiter=':')\n",
    "    for row in reader:\n",
    "        print(row)"
   ]
  },
  {
   "cell_type": "code",
   "execution_count": 21,
   "id": "81a0b9ba-70e2-418d-9dfa-233eb428e2d8",
   "metadata": {},
   "outputs": [],
   "source": [
    "#read and write csv file having semicolon and colon(;) and(:) as a delimiter\n",
    "import csv\n",
    "with open('DataWithDelimiter_new.csv','w',newline='') as file:\n",
    "    writer = csv.writer(file,delimiter=';')\n",
    "    writer.writerow(['name','rollno','branch'])\n",
    "    writer.writerow(['ram','222','cs'])\n",
    "    writer.writerow(['shyam','105','aiml'])"
   ]
  },
  {
   "cell_type": "code",
   "execution_count": null,
   "id": "b69c27f5-da41-4d48-a4a5-b6d851c112c1",
   "metadata": {},
   "outputs": [],
   "source": []
  }
 ],
 "metadata": {
  "kernelspec": {
   "display_name": "Python 3 (ipykernel)",
   "language": "python",
   "name": "python3"
  },
  "language_info": {
   "codemirror_mode": {
    "name": "ipython",
    "version": 3
   },
   "file_extension": ".py",
   "mimetype": "text/x-python",
   "name": "python",
   "nbconvert_exporter": "python",
   "pygments_lexer": "ipython3",
   "version": "3.10.10"
  }
 },
 "nbformat": 4,
 "nbformat_minor": 5
}

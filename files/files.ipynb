{
 "cells": [
  {
   "cell_type": "code",
   "execution_count": null,
   "id": "0553eaa6-bb4f-4052-93ec-7de1b0094518",
   "metadata": {},
   "outputs": [],
   "source": [
    "#files are ds to store data\n"
   ]
  },
  {
   "cell_type": "markdown",
   "id": "aa49a3f4-e6a6-4c89-b0d0-b88d9aa07479",
   "metadata": {},
   "source": [
    "<h2>creating path object using pathlib </h2>"
   ]
  },
  {
   "cell_type": "code",
   "execution_count": 7,
   "id": "1c8582ee-e5fd-4973-87a4-330876cea02c",
   "metadata": {},
   "outputs": [
    {
     "data": {
      "text/plain": [
       "PosixPath('/home/jupyter-22cs085')"
      ]
     },
     "execution_count": 7,
     "metadata": {},
     "output_type": "execute_result"
    }
   ],
   "source": [
    "from pathlib import Path\n",
    "Path.home()"
   ]
  },
  {
   "cell_type": "code",
   "execution_count": 3,
   "id": "09c2ff9e-88b4-4c9e-80f1-8ea7e0f85636",
   "metadata": {},
   "outputs": [],
   "source": [
    "del Path"
   ]
  },
  {
   "cell_type": "markdown",
   "id": "dcf2c87b-9374-47e0-b67e-45d0dd2a7f22",
   "metadata": {},
   "source": [
    "<h2>get home directory</h2>"
   ]
  },
  {
   "cell_type": "code",
   "execution_count": 9,
   "id": "d8a6356b-66b9-4b36-af14-7ff31a49d483",
   "metadata": {},
   "outputs": [
    {
     "name": "stdout",
     "output_type": "stream",
     "text": [
      "/home/jupyter-22cs085\n"
     ]
    }
   ],
   "source": [
    "homedir=Path.cwd()#current working directory\n",
    "print(homedir)\n"
   ]
  },
  {
   "cell_type": "markdown",
   "id": "ceae1942-1263-4e09-8a4b-3810a00e0f8e",
   "metadata": {},
   "source": [
    "<h2>get nth parent directory</h2>"
   ]
  },
  {
   "cell_type": "code",
   "execution_count": 10,
   "id": "1d6ae86e-c067-45fd-9e83-f9e0325341ec",
   "metadata": {},
   "outputs": [
    {
     "data": {
      "text/plain": [
       "PosixPath('/home/jupyter-22cs085')"
      ]
     },
     "execution_count": 10,
     "metadata": {},
     "output_type": "execute_result"
    }
   ],
   "source": [
    "par_dir=Path.cwd()\n",
    "par_dir"
   ]
  },
  {
   "cell_type": "code",
   "execution_count": 11,
   "id": "9a5f302b-1a88-4a64-bb6a-d9e19bdb2e03",
   "metadata": {},
   "outputs": [
    {
     "data": {
      "text/plain": [
       "PosixPath('/home')"
      ]
     },
     "execution_count": 11,
     "metadata": {},
     "output_type": "execute_result"
    }
   ],
   "source": [
    "par_dir=Path.cwd().parents[0]\n",
    "par_dir"
   ]
  },
  {
   "cell_type": "code",
   "execution_count": 12,
   "id": "e6a3fe1a-ccf7-4ef5-a386-e15fef69623c",
   "metadata": {},
   "outputs": [
    {
     "data": {
      "text/plain": [
       "PosixPath('/')"
      ]
     },
     "execution_count": 12,
     "metadata": {},
     "output_type": "execute_result"
    }
   ],
   "source": [
    "par_dir=Path.cwd().parents[1]\n",
    "par_dir"
   ]
  },
  {
   "cell_type": "code",
   "execution_count": 14,
   "id": "a17545bc-d4d0-4907-ab63-b98ca89f51f5",
   "metadata": {},
   "outputs": [],
   "source": [
    "filepath=Path(\"myfile.txt\")"
   ]
  },
  {
   "cell_type": "code",
   "execution_count": 15,
   "id": "7e2ef5a8-c7dc-4be0-921e-fc7c504a12a6",
   "metadata": {},
   "outputs": [
    {
     "name": "stdout",
     "output_type": "stream",
     "text": [
      "myfile.txt\n"
     ]
    }
   ],
   "source": [
    "print(filepath)"
   ]
  },
  {
   "cell_type": "markdown",
   "id": "15511737-5f12-4a58-9370-48d8142561b3",
   "metadata": {},
   "source": [
    "<h2>accessing file path component</h2>"
   ]
  },
  {
   "cell_type": "code",
   "execution_count": 16,
   "id": "75881313-35a0-4243-ac17-34e3f2ecf6e1",
   "metadata": {},
   "outputs": [
    {
     "name": "stdout",
     "output_type": "stream",
     "text": [
      "/home/jupyter-22cs085/Myimage.png\n"
     ]
    }
   ],
   "source": [
    "print(Path.home() / \"Myimage.png\")"
   ]
  },
  {
   "cell_type": "code",
   "execution_count": 18,
   "id": "1c542a25-7113-4da7-be57-79674fa9c18e",
   "metadata": {},
   "outputs": [
    {
     "data": {
      "text/plain": [
       "[PosixPath('/home'), PosixPath('/')]"
      ]
     },
     "execution_count": 18,
     "metadata": {},
     "output_type": "execute_result"
    }
   ],
   "source": [
    "list(Path.home().parents)"
   ]
  },
  {
   "cell_type": "code",
   "execution_count": 19,
   "id": "9d7e53db-03f1-464f-b7d0-9de6e3ae56d7",
   "metadata": {},
   "outputs": [
    {
     "name": "stdout",
     "output_type": "stream",
     "text": [
      "/home\n",
      "/\n"
     ]
    }
   ],
   "source": [
    "for p in Path.home().parents:\n",
    "    print(p)"
   ]
  },
  {
   "cell_type": "markdown",
   "id": "05af8cf2-b779-49fc-9cb4-6b93546a9782",
   "metadata": {},
   "source": [
    "<h2>check if file path exist or not</h2>"
   ]
  },
  {
   "cell_type": "code",
   "execution_count": 21,
   "id": "f43ff2ae-dbe5-4910-a97f-35338e554a9a",
   "metadata": {},
   "outputs": [
    {
     "name": "stdout",
     "output_type": "stream",
     "text": [
      "True\n"
     ]
    }
   ],
   "source": [
    "fp=Path.home()/\"csecourses1.txt\"\n",
    "print(fp.exists()) #check if file path exist or not"
   ]
  },
  {
   "cell_type": "markdown",
   "id": "8d22bab8-f3de-4bec-a7be-2da9ddb6e03f",
   "metadata": {},
   "source": [
    "<h2>creating directory</h2>"
   ]
  },
  {
   "cell_type": "code",
   "execution_count": 26,
   "id": "6edb82e4-e956-40db-8c72-c92924611ff8",
   "metadata": {},
   "outputs": [
    {
     "name": "stdout",
     "output_type": "stream",
     "text": [
      "lib/rack-1/csebooks\n"
     ]
    }
   ],
   "source": [
    "\n",
    "mydir=Path(\"lib/rack-1/csebooks\")\n",
    "print(mydir)\n",
    "mydir.mkdir(parents=True)"
   ]
  },
  {
   "cell_type": "code",
   "execution_count": 26,
   "id": "2bd1aff7-0635-46e2-82f7-31a2f00f14fd",
   "metadata": {},
   "outputs": [
    {
     "name": "stdout",
     "output_type": "stream",
     "text": [
      "lib/rack-1/csebooks\n"
     ]
    }
   ],
   "source": [
    "\n",
    "mydir=Path(\"lib/rack-1/csebooks\")\n",
    "print(mydir)\n",
    "mydir.mkdir(parents=True,exist_ok=True)"
   ]
  },
  {
   "cell_type": "code",
   "execution_count": 24,
   "id": "92532342-6230-4715-9c05-4cb33327d7ae",
   "metadata": {},
   "outputs": [
    {
     "name": "stdout",
     "output_type": "stream",
     "text": [
      "lib/rack-1/csebooks\n"
     ]
    },
    {
     "ename": "FileExistsError",
     "evalue": "[Errno 17] File exists: 'lib/rack-1/csebooks'",
     "output_type": "error",
     "traceback": [
      "\u001b[0;31m---------------------------------------------------------------------------\u001b[0m",
      "\u001b[0;31mFileExistsError\u001b[0m                           Traceback (most recent call last)",
      "Cell \u001b[0;32mIn[24], line 3\u001b[0m\n\u001b[1;32m      1\u001b[0m mydir\u001b[38;5;241m=\u001b[39mPath(\u001b[38;5;124m\"\u001b[39m\u001b[38;5;124mlib/rack-1/csebooks\u001b[39m\u001b[38;5;124m\"\u001b[39m)\n\u001b[1;32m      2\u001b[0m \u001b[38;5;28mprint\u001b[39m(mydir)\n\u001b[0;32m----> 3\u001b[0m \u001b[43mmydir\u001b[49m\u001b[38;5;241;43m.\u001b[39;49m\u001b[43mmkdir\u001b[49m\u001b[43m(\u001b[49m\u001b[43mparents\u001b[49m\u001b[38;5;241;43m=\u001b[39;49m\u001b[38;5;28;43;01mFalse\u001b[39;49;00m\u001b[43m)\u001b[49m\n",
      "File \u001b[0;32m/opt/tljh/user/lib/python3.10/pathlib.py:1175\u001b[0m, in \u001b[0;36mPath.mkdir\u001b[0;34m(self, mode, parents, exist_ok)\u001b[0m\n\u001b[1;32m   1171\u001b[0m \u001b[38;5;250m\u001b[39m\u001b[38;5;124;03m\"\"\"\u001b[39;00m\n\u001b[1;32m   1172\u001b[0m \u001b[38;5;124;03mCreate a new directory at this given path.\u001b[39;00m\n\u001b[1;32m   1173\u001b[0m \u001b[38;5;124;03m\"\"\"\u001b[39;00m\n\u001b[1;32m   1174\u001b[0m \u001b[38;5;28;01mtry\u001b[39;00m:\n\u001b[0;32m-> 1175\u001b[0m     \u001b[38;5;28;43mself\u001b[39;49m\u001b[38;5;241;43m.\u001b[39;49m\u001b[43m_accessor\u001b[49m\u001b[38;5;241;43m.\u001b[39;49m\u001b[43mmkdir\u001b[49m\u001b[43m(\u001b[49m\u001b[38;5;28;43mself\u001b[39;49m\u001b[43m,\u001b[49m\u001b[43m \u001b[49m\u001b[43mmode\u001b[49m\u001b[43m)\u001b[49m\n\u001b[1;32m   1176\u001b[0m \u001b[38;5;28;01mexcept\u001b[39;00m \u001b[38;5;167;01mFileNotFoundError\u001b[39;00m:\n\u001b[1;32m   1177\u001b[0m     \u001b[38;5;28;01mif\u001b[39;00m \u001b[38;5;129;01mnot\u001b[39;00m parents \u001b[38;5;129;01mor\u001b[39;00m \u001b[38;5;28mself\u001b[39m\u001b[38;5;241m.\u001b[39mparent \u001b[38;5;241m==\u001b[39m \u001b[38;5;28mself\u001b[39m:\n",
      "\u001b[0;31mFileExistsError\u001b[0m: [Errno 17] File exists: 'lib/rack-1/csebooks'"
     ]
    }
   ],
   "source": [
    "mydir=Path(\"lib/rack-1/csebooks\")\n",
    "print(mydir)\n",
    "mydir.mkdir(parents=False)"
   ]
  },
  {
   "cell_type": "code",
   "execution_count": 30,
   "id": "aa1ac7b4-c4d7-4b57-8fa3-8828f26e32b6",
   "metadata": {},
   "outputs": [
    {
     "name": "stdout",
     "output_type": "stream",
     "text": [
      "True\n",
      "False\n"
     ]
    }
   ],
   "source": [
    "diretory=Path(\"lib\")\n",
    "print(diretory.is_dir())\n",
    "diretype_existing=Path(\"books\")\n",
    "print(diretype_existing.is_dir())\n",
    "              "
   ]
  },
  {
   "cell_type": "markdown",
   "id": "3806a882-134d-4c10-9055-2c8fcddbb88a",
   "metadata": {},
   "source": [
    "<h2>create a file</h2>"
   ]
  },
  {
   "cell_type": "code",
   "execution_count": 31,
   "id": "4f44f938-c880-438e-b0eb-923e78fa00c1",
   "metadata": {},
   "outputs": [
    {
     "data": {
      "text/plain": [
       "True"
      ]
     },
     "execution_count": 31,
     "metadata": {},
     "output_type": "execute_result"
    }
   ],
   "source": [
    "ffp=Path(\"myimage.png\")\n",
    "ffp.touch()\n"
   ]
  },
  {
   "cell_type": "code",
   "execution_count": 32,
   "id": "27e63c7a-ffa6-4949-86fe-a50793148759",
   "metadata": {},
   "outputs": [
    {
     "data": {
      "text/plain": [
       "True"
      ]
     },
     "execution_count": 32,
     "metadata": {},
     "output_type": "execute_result"
    }
   ],
   "source": [
    "ffp.exists()\n"
   ]
  },
  {
   "cell_type": "markdown",
   "id": "913dcbc5-8c75-43fd-97ca-54ad0bb51200",
   "metadata": {},
   "source": [
    "<h2>iterating over directory contents</h2>"
   ]
  },
  {
   "cell_type": "code",
   "execution_count": 33,
   "id": "b7f49af1-f9ac-4e6b-b473-f37f55b378c0",
   "metadata": {},
   "outputs": [
    {
     "name": "stdout",
     "output_type": "stream",
     "text": [
      "/usr/src/linux-hwe-6.8-headers-6.8.0-48\n",
      "/usr/src/linux-headers-6.8.0-48-generic\n",
      "/usr/src/linux-headers-5.15.0-124\n",
      "/usr/src/python3.10\n",
      "/usr/src/linux-headers-5.15.0-124-generic\n",
      "/usr/src/linux-headers-6.8.0-45-generic\n",
      "/usr/src/linux-hwe-6.8-headers-6.8.0-45\n"
     ]
    }
   ],
   "source": [
    "fpt=Path(\"/usr/src\")\n",
    "for p in fpt.iterdir():\n",
    "    print(p)\n",
    "    "
   ]
  },
  {
   "cell_type": "code",
   "execution_count": 34,
   "id": "ebe2d525-75df-4dc7-8748-075c07a2c9bb",
   "metadata": {},
   "outputs": [
    {
     "name": "stdout",
     "output_type": "stream",
     "text": [
      "/root\n",
      "/lib64\n",
      "/proc\n",
      "/snap\n",
      "/mnt\n",
      "/usr\n",
      "/var\n",
      "/cdrom\n",
      "/bin\n",
      "/sbin\n",
      "/home\n",
      "/libx32\n",
      "/swapfile\n",
      "/lost+found\n",
      "/boot\n",
      "/etc\n",
      "/srv\n",
      "/opt\n",
      "/run\n",
      "/lib\n",
      "/dev\n",
      "/sys\n",
      "/media\n",
      "/lib32\n",
      "/tmp\n"
     ]
    }
   ],
   "source": [
    "fpt=Path(\"/\")\n",
    "for p in fpt.iterdir():\n",
    "    print(p)"
   ]
  },
  {
   "cell_type": "markdown",
   "id": "9cb9be8b-20bd-4938-a1cc-3a356db8e593",
   "metadata": {},
   "source": [
    "<h2>read a content of file</h2>"
   ]
  },
  {
   "cell_type": "code",
   "execution_count": 41,
   "id": "67af3193-a1e0-44be-bdf1-2474f4feaeed",
   "metadata": {},
   "outputs": [
    {
     "name": "stdout",
     "output_type": "stream",
     "text": [
      "hello,i am samiksha  .\n"
     ]
    }
   ],
   "source": [
    "with open('message.txt',mode='r') as file:\n",
    "    for line in file:\n",
    "        print(line)"
   ]
  },
  {
   "cell_type": "markdown",
   "id": "a843b979-1be2-4e3e-ae5c-14e5ad22f378",
   "metadata": {},
   "source": [
    "<h2>append a data to text file</h2>"
   ]
  },
  {
   "cell_type": "code",
   "execution_count": 44,
   "id": "e5b3beb7-174e-4483-a924-b620387947c8",
   "metadata": {},
   "outputs": [
    {
     "name": "stdout",
     "output_type": "stream",
     "text": [
      "content writing done successfully\n"
     ]
    }
   ],
   "source": [
    "statements=[\"cse\\n,ise\\n,aiml\\n,ece\\n\"]\n",
    "with open('message.txt','w') as file:\n",
    "    file.writelines(statements);\n",
    "    #file.write(\"hello students! we are learning writing content to the file\")\n",
    "    #file.write(\"cse department.\\n\")\n",
    "if(file!=\" \"):\n",
    "    print(f'content writing done successfully')\n",
    "else:\n",
    "    print(f'problem in writing content to a specified file...!!')"
   ]
  },
  {
   "cell_type": "code",
   "execution_count": 45,
   "id": "5a6bc5a9-2309-4821-a6d7-06e0b5ab18d8",
   "metadata": {},
   "outputs": [
    {
     "name": "stdout",
     "output_type": "stream",
     "text": [
      "content append done successfully\n"
     ]
    }
   ],
   "source": [
    "with open('message.txt','a') as file:\n",
    "   \n",
    "    file.write(\"hello baccho!!\")\n",
    "    #file.write(\"cse department.\\n\")\n",
    "if(file!=\" \"):\n",
    "    print(f'content append done successfully')\n",
    "else:\n",
    "    print(f'problem in appending content to a specified file...!!')"
   ]
  },
  {
   "cell_type": "markdown",
   "id": "bd70bc31-0ee4-469b-b1ae-33914c4de3bf",
   "metadata": {},
   "source": [
    "<h2>write a python script to read n natural numberand find the sum\n",
    "\n",
    "</h2>"
   ]
  },
  {
   "cell_type": "code",
   "execution_count": 57,
   "id": "a35bcf69-0828-4c37-8369-1c3054d18bc8",
   "metadata": {},
   "outputs": [
    {
     "ename": "ValueError",
     "evalue": "invalid literal for int() with base 10: '1\\n2\\n3\\n4\\n5'",
     "output_type": "error",
     "traceback": [
      "\u001b[0;31m---------------------------------------------------------------------------\u001b[0m",
      "\u001b[0;31mValueError\u001b[0m                                Traceback (most recent call last)",
      "Cell \u001b[0;32mIn[57], line 2\u001b[0m\n\u001b[1;32m      1\u001b[0m \u001b[38;5;28;01mwith\u001b[39;00m \u001b[38;5;28mopen\u001b[39m(\u001b[38;5;124m'\u001b[39m\u001b[38;5;124mnatural_numbers.txt\u001b[39m\u001b[38;5;124m'\u001b[39m,\u001b[38;5;124m'\u001b[39m\u001b[38;5;124mr\u001b[39m\u001b[38;5;124m'\u001b[39m) \u001b[38;5;28;01mas\u001b[39;00m file:\n\u001b[0;32m----> 2\u001b[0m     N\u001b[38;5;241m=\u001b[39m\u001b[38;5;28;43mint\u001b[39;49m\u001b[43m(\u001b[49m\u001b[43mfile\u001b[49m\u001b[38;5;241;43m.\u001b[39;49m\u001b[43mread\u001b[49m\u001b[43m(\u001b[49m\u001b[43m)\u001b[49m\u001b[43m)\u001b[49m\n\u001b[1;32m      3\u001b[0m sum_of_N\u001b[38;5;241m=\u001b[39mN\u001b[38;5;241m*\u001b[39m(N\u001b[38;5;241m+\u001b[39m\u001b[38;5;241m1\u001b[39m)\u001b[38;5;241m/\u001b[39m\u001b[38;5;241m/\u001b[39m\u001b[38;5;241m2\u001b[39m\n\u001b[1;32m      4\u001b[0m \u001b[38;5;28mprint\u001b[39m(\u001b[38;5;124m\"\u001b[39m\u001b[38;5;124msum of first\u001b[39m\u001b[38;5;124m\"\u001b[39m,N,\u001b[38;5;124m\"\u001b[39m\u001b[38;5;124mnatural numbers:\u001b[39m\u001b[38;5;124m\"\u001b[39m,sum_of_N)\n",
      "\u001b[0;31mValueError\u001b[0m: invalid literal for int() with base 10: '1\\n2\\n3\\n4\\n5'"
     ]
    }
   ],
   "source": [
    "with open('natural_numbers.txt','r') as file:\n",
    "    N=int(file.read())\n",
    "sum_of_N=N*(N+1)//2\n",
    "print(\"sum of first\",N,\"natural numbers:\",sum_of_N)"
   ]
  },
  {
   "cell_type": "code",
   "execution_count": 51,
   "id": "ccf0f8a3-7aa0-4591-abfb-701f592d60b4",
   "metadata": {},
   "outputs": [],
   "source": [
    "### python script to read series of number sfrom the files and file the sum of N numbers ###\n"
   ]
  },
  {
   "cell_type": "code",
   "execution_count": 54,
   "id": "d828ce12-5d63-403b-86cb-d977695f5861",
   "metadata": {},
   "outputs": [
    {
     "name": "stdout",
     "output_type": "stream",
     "text": [
      "sum of numbers: 0\n"
     ]
    }
   ],
   "source": [
    "with open('naturalnumbers.txt','r') as file:\n",
    "    total=0\n",
    "    for line in file:\n",
    "        number=int(line.rstrip())\n",
    "        total+=number\n",
    "print(\"sum of numbers:\",total)"
   ]
  },
  {
   "cell_type": "code",
   "execution_count": 60,
   "id": "cf4aff11-cadc-45f1-a9bb-15f3731ad4ea",
   "metadata": {},
   "outputs": [],
   "source": [
    "#pattern matching or searching a string in the given file\n",
    "import fnmatch\n",
    "\n",
    "with open('search_string.txt','r') as file:\n",
    "    for line in file:\n",
    "        if fnmatch.fnmatch(line.strip(),'*SDM*'):\n",
    "            print(line)"
   ]
  },
  {
   "cell_type": "code",
   "execution_count": null,
   "id": "09d7877e-c330-4e5f-8d90-5ccde8d118ac",
   "metadata": {},
   "outputs": [],
   "source": []
  }
 ],
 "metadata": {
  "kernelspec": {
   "display_name": "Python 3 (ipykernel)",
   "language": "python",
   "name": "python3"
  },
  "language_info": {
   "codemirror_mode": {
    "name": "ipython",
    "version": 3
   },
   "file_extension": ".py",
   "mimetype": "text/x-python",
   "name": "python",
   "nbconvert_exporter": "python",
   "pygments_lexer": "ipython3",
   "version": "3.10.10"
  }
 },
 "nbformat": 4,
 "nbformat_minor": 5
}

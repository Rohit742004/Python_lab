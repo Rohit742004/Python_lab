{
 "cells": [
  {
   "cell_type": "markdown",
   "id": "1236ac94-062c-42b6-b3ce-77c0d4ecc244",
   "metadata": {},
   "source": [
    "<h2>CSV files</h2>"
   ]
  },
  {
   "cell_type": "markdown",
   "id": "ded81328-ee1a-4cda-bb86-cd27e6c403b6",
   "metadata": {},
   "source": [
    "<h2>Read student marks from csv file and display the same</h2>"
   ]
  },
  {
   "cell_type": "code",
   "execution_count": 1,
   "id": "5b327171-f9de-424e-a3ba-e8fa1cf3048d",
   "metadata": {},
   "outputs": [
    {
     "name": "stdout",
     "output_type": "stream",
     "text": [
      "['IA', 'CIE', 'SEE']\n",
      "['12', '34', '76']\n",
      "['13', '36', '96']\n",
      "['20', '40', '90']\n",
      "['13', '16', '80']\n"
     ]
    }
   ],
   "source": [
    "import csv\n",
    "#read the csv file\n",
    "with open(\"marks.csv\",mode='r',encoding=\"utf-8\") as file:\n",
    "    reader=csv.reader(file)\n",
    "    #print the remaining rows\n",
    "    for row in reader:\n",
    "        print(row)"
   ]
  },
  {
   "cell_type": "code",
   "execution_count": 3,
   "id": "54b3df54-bbeb-4190-aeb2-793d7beb3361",
   "metadata": {},
   "outputs": [
    {
     "name": "stdout",
     "output_type": "stream",
     "text": [
      "['USN', 'CGPA']\n",
      "['1', '4']\n",
      "['2', '5']\n",
      "['3', '6']\n",
      "['4', '7']\n",
      "['5', '8']\n"
     ]
    }
   ],
   "source": [
    "import csv\n",
    "#read the csv file\n",
    "with open(\"datasets/USN.csv\",mode='r',encoding=\"utf-8\") as file:\n",
    "    reader=csv.reader(file)#reader() changes the output format into lists\n",
    "    #print the remaining rows\n",
    "    for row in reader:\n",
    "        print(row)"
   ]
  },
  {
   "cell_type": "markdown",
   "id": "8facbdf9-b097-4daf-9d2e-6736b488a008",
   "metadata": {},
   "source": [
    "<H2> write city-wise temperature sata stored in dictionary to the csv file\n",
    "</H2>"
   ]
  },
  {
   "cell_type": "code",
   "execution_count": 5,
   "id": "e47565dd-5a63-4733-8d65-9444e99ef273",
   "metadata": {},
   "outputs": [
    {
     "name": "stdout",
     "output_type": "stream",
     "text": [
      "['city', 'temperature']\n",
      "city-wise temperature data is written to csv file successfully!!\n"
     ]
    }
   ],
   "source": [
    "import csv\n",
    "\n",
    "#city-temperature data\n",
    "city_temps={\n",
    "    \"bangalore\":25,\n",
    "    \"udupi\":15,\n",
    "    \"sirsi\":20\n",
    "}\n",
    "#write the data to a csv file\n",
    "with open('temperatureData.csv',mode='w',newline='')as csvfile:\n",
    "    fieldnames=['city','temperature']\n",
    "    writer=csv.DictWriter(csvfile,fieldnames=fieldnames)\n",
    "    print(writer.fieldnames)\n",
    "    for city,temp in city_temps.items():\n",
    "        writer.writerow({'city':city,'temperature':temp})\n",
    "print(\"city-wise temperature data is written to csv file successfully!!\")"
   ]
  },
  {
   "cell_type": "code",
   "execution_count": 6,
   "id": "a3ce9323-0ddd-4e6f-8568-47629a982c47",
   "metadata": {},
   "outputs": [
    {
     "name": "stdin",
     "output_type": "stream",
     "text": [
      "enter the IA1 marks 17\n",
      "enter the IA2 marks 20\n",
      "enter the IA3 marks 16\n"
     ]
    },
    {
     "name": "stdout",
     "output_type": "stream",
     "text": [
      "marks written to csv file successfully!\n"
     ]
    }
   ],
   "source": [
    "#read student ia marks and store it into csv file\n",
    "#get subject marks from the user\n",
    "IA1=int(input(\"enter the IA1 marks\"))\n",
    "IA2=int(input(\"enter the IA2 marks\"))\n",
    "IA3=int(input(\"enter the IA3 marks\"))\n",
    "#create a list of marks\n",
    "marks=[IA1,IA2,IA3]\n",
    "#write the marks in csv file\n",
    "with open('IAmarks.csv','a',newline='')as csvfile:\n",
    "    writer=csv.writer(csvfile)\n",
    "    writer.writerow(marks)\n",
    "print(\"marks written to csv file successfully!\")"
   ]
  },
  {
   "cell_type": "code",
   "execution_count": 8,
   "id": "7b725bbe-28d1-4762-a3e9-5d4b72f382e0",
   "metadata": {},
   "outputs": [
    {
     "name": "stdout",
     "output_type": "stream",
     "text": [
      "[\"'name'\", \"'roll_no'\", \"'branch'\", '']\n",
      "[\"'ramesh arvind'\", \"'124'\", \"'ml'\", '']\n",
      "[\"'punit r'\", \"'254'\", \"'ce'\", '']\n"
     ]
    }
   ],
   "source": [
    "#read and write csv file having semicolon and colon & (:) as delimiter\n",
    "import csv\n",
    "with open('studata.csv','r') as file:\n",
    "    reader=csv.reader(file,delimiter=':')\n",
    "    for row in reader:\n",
    "        print(row)"
   ]
  },
  {
   "cell_type": "code",
   "execution_count": 9,
   "id": "2e5d23d9-be48-46e7-aca4-3dc78733c301",
   "metadata": {},
   "outputs": [],
   "source": [
    "import csv\n",
    "with open('datawithdelimit.csv','w',newline='')as file:\n",
    "    writer=csv.writer(file,delimiter=';')\n",
    "    writer.writerow(['name','roll_no','branch'])\n",
    "    writer.writerow(['ramesh','124','ml'])\n",
    "    writer.writerow(['sam','254','ce'])"
   ]
  },
  {
   "cell_type": "code",
   "execution_count": null,
   "id": "d27e76b5-b982-478e-a0ec-5b2822e0c8fa",
   "metadata": {},
   "outputs": [],
   "source": []
  }
 ],
 "metadata": {
  "kernelspec": {
   "display_name": "Python 3 (ipykernel)",
   "language": "python",
   "name": "python3"
  },
  "language_info": {
   "codemirror_mode": {
    "name": "ipython",
    "version": 3
   },
   "file_extension": ".py",
   "mimetype": "text/x-python",
   "name": "python",
   "nbconvert_exporter": "python",
   "pygments_lexer": "ipython3",
   "version": "3.10.10"
  }
 },
 "nbformat": 4,
 "nbformat_minor": 5
}

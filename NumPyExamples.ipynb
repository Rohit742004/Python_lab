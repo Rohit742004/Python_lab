{
 "cells": [
  {
   "cell_type": "markdown",
   "id": "ba54ebda-ff84-483c-9702-c5e55ce6a453",
   "metadata": {},
   "source": [
    "#### (1)Creating an array using numpy module"
   ]
  },
  {
   "cell_type": "code",
   "execution_count": 3,
   "id": "0473ae09-9b6c-4192-9940-e74eccf5b97c",
   "metadata": {},
   "outputs": [
    {
     "name": "stdout",
     "output_type": "stream",
     "text": [
      "<class 'array.array'>\n"
     ]
    }
   ],
   "source": [
    "import array\n",
    "a1 = array.array('i',[11,22,33,44])\n",
    "print(type(a1))"
   ]
  },
  {
   "cell_type": "code",
   "execution_count": 5,
   "id": "b18ae6c0-3e8a-46cc-9923-53a7fe771652",
   "metadata": {},
   "outputs": [
    {
     "name": "stdout",
     "output_type": "stream",
     "text": [
      "<class 'list'>\n"
     ]
    },
    {
     "data": {
      "text/plain": [
       "9"
      ]
     },
     "execution_count": 5,
     "metadata": {},
     "output_type": "execute_result"
    }
   ],
   "source": [
    "mat = [[2,4,6,8],[3,5,7,9],[12,14,16,18],[11,13,15,17]]\n",
    "print(type(mat))\n",
    "mat[1][3]"
   ]
  },
  {
   "cell_type": "markdown",
   "id": "abcffb9b-e963-4f6c-91a0-97257c358827",
   "metadata": {},
   "source": [
    "#### (2)Multiplying array element"
   ]
  },
  {
   "cell_type": "markdown",
   "id": "61fdf222-2b95-4bf4-b621-82e39f693c27",
   "metadata": {},
   "source": [
    "for row in mat:\n",
    "    for col in range(len(mat)):\n",
    "        row[col] = row[col] *2"
   ]
  },
  {
   "cell_type": "markdown",
   "id": "c6b20dd8-c4ba-427d-9429-25d01b09cbe7",
   "metadata": {},
   "source": [
    "#### (3) Printing array in the form of matrix ($ pip3 intall numpy)"
   ]
  },
  {
   "cell_type": "code",
   "execution_count": 1,
   "id": "ed56fc60-6fa8-46d5-b719-1063c844d6e0",
   "metadata": {},
   "outputs": [
    {
     "name": "stdout",
     "output_type": "stream",
     "text": [
      "<class 'numpy.ndarray'>\n",
      "[[11 22 33]\n",
      " [44 55 66]\n",
      " [77 88 99]]\n"
     ]
    }
   ],
   "source": [
    "import numpy as np\n",
    "matrix = np.array([[11,22,33],[44,55,66],[77,88,99]])\n",
    "print(type(matrix))\n",
    "print(matrix)"
   ]
  },
  {
   "cell_type": "markdown",
   "id": "7812d2ac-e922-4345-a6c3-d98461f45bf6",
   "metadata": {},
   "source": [
    "<h1>Array creation and its opeation</h1>"
   ]
  },
  {
   "cell_type": "code",
   "execution_count": 3,
   "id": "5e8b442f-50d1-4fb3-a4b0-a38b10d0b70b",
   "metadata": {},
   "outputs": [
    {
     "data": {
      "text/plain": [
       "array([ True, False, False, False, False])"
      ]
     },
     "execution_count": 3,
     "metadata": {},
     "output_type": "execute_result"
    }
   ],
   "source": [
    "import numpy as py\n",
    "Nums = py.array([11,22,33,44,55])\n",
    "Nums<20\n",
    "# Nums>15\n",
    "#Nums != 10"
   ]
  },
  {
   "cell_type": "code",
   "execution_count": 9,
   "id": "f488346b-8e24-4357-906d-b97948dc69fa",
   "metadata": {},
   "outputs": [
    {
     "name": "stdout",
     "output_type": "stream",
     "text": [
      "[4 8 1 6 1 2]\n"
     ]
    }
   ],
   "source": [
    "import numpy as py\n",
    "a3 = py.random.randint(1,10,6)\n",
    "print(a3)"
   ]
  },
  {
   "cell_type": "code",
   "execution_count": 10,
   "id": "04edf339-5b06-49cc-8f8e-f7f5cf77bcea",
   "metadata": {},
   "outputs": [
    {
     "name": "stdout",
     "output_type": "stream",
     "text": [
      "3\n"
     ]
    }
   ],
   "source": [
    "a3 = py.random.randint(1,10,6).reshape(2,3,1)\n",
    "print(a3.ndim)"
   ]
  },
  {
   "cell_type": "code",
   "execution_count": 11,
   "id": "fcd5ba1e-735c-4236-88f9-56c79d3564cb",
   "metadata": {},
   "outputs": [
    {
     "name": "stdout",
     "output_type": "stream",
     "text": [
      "[[ 2  4  6  8 10]\n",
      " [ 1  3  5  7  9]\n",
      " [ 1  2  3  4  5]]\n",
      "\n",
      " After slicing:\n"
     ]
    },
    {
     "data": {
      "text/plain": [
       "(3, 2)"
      ]
     },
     "execution_count": 11,
     "metadata": {},
     "output_type": "execute_result"
    }
   ],
   "source": [
    "TwoD_arr = py.array([[2,4,6,8,10],[1,3,5,7,9],[1,2,3,4,5]])\n",
    "print(TwoD_arr)\n",
    "print(\"\\n After slicing:\")\n",
    "TwoD_arr[:3,:2].shape"
   ]
  },
  {
   "cell_type": "code",
   "execution_count": 12,
   "id": "6a9f00fe-938a-4253-99e4-fe969f0debfd",
   "metadata": {},
   "outputs": [
    {
     "name": "stdout",
     "output_type": "stream",
     "text": [
      "[[[ 1  2  3]\n",
      "  [ 4  5  6]]\n",
      "\n",
      " [[ 7  8  9]\n",
      "  [10 11 12]]\n",
      "\n",
      " [[13 14 15]\n",
      "  [16 17 18]]]\n"
     ]
    }
   ],
   "source": [
    "matrix = np.array([[[1,2,3],[4,5,6]],[[7,8,9],[10,11,12]],[[13,14,15],[16,17,18]]])\n",
    "print(matrix)"
   ]
  },
  {
   "cell_type": "code",
   "execution_count": 13,
   "id": "c3e7969f-8a52-4584-b078-02c55a81186e",
   "metadata": {},
   "outputs": [
    {
     "data": {
      "text/plain": [
       "array([[2, 2, 2],\n",
       "       [2, 2, 2],\n",
       "       [2, 2, 2]])"
      ]
     },
     "execution_count": 13,
     "metadata": {},
     "output_type": "execute_result"
    }
   ],
   "source": [
    "matrix = np.array([[1,1,1],[1,1,1],[1,1,1]])\n",
    "2*matrix"
   ]
  },
  {
   "cell_type": "code",
   "execution_count": 15,
   "id": "63e7cf10-0264-439f-b024-a2ded164b4cc",
   "metadata": {},
   "outputs": [
    {
     "data": {
      "text/plain": [
       "array([[3, 3, 3],\n",
       "       [3, 3, 3],\n",
       "       [3, 3, 3]])"
      ]
     },
     "execution_count": 15,
     "metadata": {},
     "output_type": "execute_result"
    }
   ],
   "source": [
    "\n",
    "matrix1 = np.array([[1,1,1],[1,1,1],[1,1,1],[1,1,1]])\n",
    "matrix2 = np.array([[1,1,1],[1,1,1],[1,1,1],[1,1,1]])\n",
    "matrix @ matrix"
   ]
  },
  {
   "cell_type": "markdown",
   "id": "2ee4fac7-b758-44c9-b470-83a2d386b92c",
   "metadata": {},
   "source": [
    "#### (7)Stacking and shaping Arrays: Two arrays can be"
   ]
  },
  {
   "cell_type": "code",
   "execution_count": 16,
   "id": "c0a9bb3a-19a3-457e-a7a4-b0c631c11414",
   "metadata": {},
   "outputs": [
    {
     "data": {
      "text/plain": [
       "array([[[ 1,  2,  3],\n",
       "        [ 4,  5,  6],\n",
       "        [ 1,  2,  3],\n",
       "        [ 4,  5,  6]],\n",
       "\n",
       "       [[ 7,  8,  9],\n",
       "        [10, 11, 12],\n",
       "        [ 7,  8,  9],\n",
       "        [10, 11, 12]],\n",
       "\n",
       "       [[13, 14, 15],\n",
       "        [16, 17, 18],\n",
       "        [13, 14, 15],\n",
       "        [16, 17, 18]]])"
      ]
     },
     "execution_count": 16,
     "metadata": {},
     "output_type": "execute_result"
    }
   ],
   "source": [
    "matrix1 = np.array([[[1,2,3],[4,5,6]],[[7,8,9],[10,11,12]],[[13,14,15],[16,17,18]]])\n",
    "matrix2 = np.array([[[1,2,3],[4,5,6]],[[7,8,9],[10,11,12]],[[13,14,15],[16,17,18]]])\n",
    "\n",
    "np.hstack((matrix1,matrix2))"
   ]
  },
  {
   "cell_type": "markdown",
   "id": "3d54fd16-7d83-4761-b3d5-aa4484fe4355",
   "metadata": {},
   "source": [
    "#### (1)Create a 3 x 3 array named frist_matrix that inclides the numbers 3 through 11 by using arange() function and reshape the array object by 3x2x2"
   ]
  },
  {
   "cell_type": "code",
   "execution_count": 19,
   "id": "ae1dfe0f-7d11-45b3-83ca-9b70dfa93b31",
   "metadata": {},
   "outputs": [
    {
     "name": "stdout",
     "output_type": "stream",
     "text": [
      "[[[ 3]\n",
      "  [ 4]\n",
      "  [ 5]]\n",
      "\n",
      " [[ 6]\n",
      "  [ 7]\n",
      "  [ 8]]\n",
      "\n",
      " [[ 9]\n",
      "  [10]\n",
      "  [11]]]\n"
     ]
    }
   ],
   "source": [
    "frist_mat = py.array([[[1,2,3],[4,5,6]],[[7,8,9],[10,11,12]],[[13,14,15],[16,17,18]]])\n",
    "numbers= np.arange(3,12)\n",
    "frist_mat=numbers.reshape(3,3,1)\n",
    "print(frist_mat)"
   ]
  },
  {
   "cell_type": "markdown",
   "id": "ca64a816-0e9a-4f0d-bb7c-e70ade0f3789",
   "metadata": {},
   "source": [
    "#### (5) Stack frist_matrix on top of second_matrix and save the resulits in ana array named thrid_matrix "
   ]
  },
  {
   "cell_type": "code",
   "execution_count": null,
   "id": "1e9d154c-2380-4f56-a8da-6e4e9b98f068",
   "metadata": {},
   "outputs": [],
   "source": []
  }
 ],
 "metadata": {
  "kernelspec": {
   "display_name": "Python 3 (ipykernel)",
   "language": "python",
   "name": "python3"
  },
  "language_info": {
   "codemirror_mode": {
    "name": "ipython",
    "version": 3
   },
   "file_extension": ".py",
   "mimetype": "text/x-python",
   "name": "python",
   "nbconvert_exporter": "python",
   "pygments_lexer": "ipython3",
   "version": "3.10.10"
  }
 },
 "nbformat": 4,
 "nbformat_minor": 5
}

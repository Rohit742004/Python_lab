{
 "cells": [
  {
   "cell_type": "markdown",
   "id": "21bc92cc-99ec-4c29-bd52-2e8c61ff09a4",
   "metadata": {},
   "source": [
    "<h3>creating an array using numpy module</h3>"
   ]
  },
  {
   "cell_type": "code",
   "execution_count": 1,
   "id": "047df5e6-a869-49a9-851c-f1d2885162e9",
   "metadata": {},
   "outputs": [
    {
     "name": "stdout",
     "output_type": "stream",
     "text": [
      "<class 'array.array'>\n"
     ]
    }
   ],
   "source": [
    "import array\n",
    "a1=array.array('i',[11,22,33,44])\n",
    "print(type(a1))"
   ]
  },
  {
   "cell_type": "code",
   "execution_count": 4,
   "id": "b2e38dcd-a100-46fe-95be-40deeafa526f",
   "metadata": {},
   "outputs": [
    {
     "data": {
      "text/plain": [
       "3"
      ]
     },
     "execution_count": 4,
     "metadata": {},
     "output_type": "execute_result"
    }
   ],
   "source": [
    "#creating an array using numpy module\n",
    "mat=[[2,4,6,8],[3,5,7,9],[12,14,16,18],[11,13,15,17]]\n",
    "#print(type(mat))\n",
    "mat[1][0]"
   ]
  },
  {
   "cell_type": "code",
   "execution_count": 6,
   "id": "1b689110-721d-4cc8-87df-6f42eacf11a4",
   "metadata": {},
   "outputs": [
    {
     "data": {
      "text/plain": [
       "14"
      ]
     },
     "execution_count": 6,
     "metadata": {},
     "output_type": "execute_result"
    }
   ],
   "source": [
    "#multiplying array element\n",
    "mat[1][2]*2"
   ]
  },
  {
   "cell_type": "code",
   "execution_count": 8,
   "id": "45859dff-23fc-4ad7-b9d7-64fa69bff4e5",
   "metadata": {},
   "outputs": [
    {
     "name": "stdout",
     "output_type": "stream",
     "text": [
      "[[8, 16, 24, 32], [12, 20, 28, 36], [48, 56, 64, 72], [44, 52, 60, 68]]\n"
     ]
    }
   ],
   "source": [
    "for row in mat:\n",
    "    for col in range(len(mat)):\n",
    "        row[col]=row[col]*2\n",
    "print(mat)"
   ]
  },
  {
   "cell_type": "markdown",
   "id": "d378db36-d9a4-46fe-8e30-ff7b1454eb41",
   "metadata": {},
   "source": [
    "<h3>printing array in the form of matrix($ pip3 install numpy) </h3>"
   ]
  },
  {
   "cell_type": "code",
   "execution_count": 1,
   "id": "5445f221-faaa-4ca1-9c09-da0a65a17510",
   "metadata": {
    "scrolled": true
   },
   "outputs": [
    {
     "name": "stdout",
     "output_type": "stream",
     "text": [
      "<class 'numpy.ndarray'>\n",
      "[[11 22 33]\n",
      " [44 55 66]\n",
      " [77 88 99]]\n"
     ]
    }
   ],
   "source": [
    "#printing array in the form of matrix($ pip3 install numpy)\n",
    "import numpy as np\n",
    "matrix = np.array([[11,22,33],[44,55,66],[77,88,99]])\n",
    "print(type(matrix))\n",
    "print(matrix)"
   ]
  },
  {
   "cell_type": "markdown",
   "id": "7ec9f614-c3e2-4045-8009-5efa5d501a54",
   "metadata": {},
   "source": [
    "<h3>array creation and its operation</h3>"
   ]
  },
  {
   "cell_type": "code",
   "execution_count": 3,
   "id": "9ef47a2d-fc43-43af-b8c4-0f2897d7d0bd",
   "metadata": {},
   "outputs": [
    {
     "data": {
      "text/plain": [
       "array([ True, False, False, False, False])"
      ]
     },
     "execution_count": 3,
     "metadata": {},
     "output_type": "execute_result"
    }
   ],
   "source": [
    "import numpy as py\n",
    "nums=py.array([11,22,33,44,55])\n",
    "nums<20"
   ]
  },
  {
   "cell_type": "code",
   "execution_count": 8,
   "id": "160d7d56-1e1f-407d-9837-9b566ac433e3",
   "metadata": {},
   "outputs": [
    {
     "data": {
      "text/plain": [
       "array([[[30],\n",
       "        [34]],\n",
       "\n",
       "       [[43],\n",
       "        [20]],\n",
       "\n",
       "       [[20],\n",
       "        [35]],\n",
       "\n",
       "       [[30],\n",
       "        [38]]])"
      ]
     },
     "execution_count": 8,
     "metadata": {},
     "output_type": "execute_result"
    }
   ],
   "source": [
    "import numpy as py\n",
    "py.random.randint(20,50,8).reshape(4,2,1)\n"
   ]
  },
  {
   "cell_type": "code",
   "execution_count": 11,
   "id": "756b1615-7807-4773-94f9-1b6d3f321db6",
   "metadata": {},
   "outputs": [
    {
     "name": "stdout",
     "output_type": "stream",
     "text": [
      "[[ 2  4  6  8 10]\n",
      " [ 1  3  5  7  9]\n",
      " [ 1  2  3  4  5]]\n",
      "\n",
      " after slicing:\n"
     ]
    },
    {
     "data": {
      "text/plain": [
       "array([[2, 4],\n",
       "       [1, 3],\n",
       "       [1, 2]])"
      ]
     },
     "execution_count": 11,
     "metadata": {},
     "output_type": "execute_result"
    }
   ],
   "source": [
    "#array slicing\n",
    "#array_object[row,col]\n",
    "twoD_arr=py.array([[2,4,6,8,10],[1,3,5,7,9],[1,2,3,4,5]])\n",
    "print(twoD_arr)\n",
    "print(\"\\n after slicing:\")\n",
    "twoD_arr[:3,:2]#.shape"
   ]
  },
  {
   "cell_type": "markdown",
   "id": "d56270c1-5e00-4afb-a907-84caf9dbb453",
   "metadata": {},
   "source": [
    "<h3>creating array with different type</h3>"
   ]
  },
  {
   "cell_type": "code",
   "execution_count": 12,
   "id": "7bb55e81-d507-4346-b199-89cc2fe8a993",
   "metadata": {},
   "outputs": [
    {
     "data": {
      "text/plain": [
       "array([['1', '2', '3'],\n",
       "       ['a', 'b', 'c']], dtype='<U21')"
      ]
     },
     "execution_count": 12,
     "metadata": {},
     "output_type": "execute_result"
    }
   ],
   "source": [
    "np.array([[1,2,3],['a','b','c']])"
   ]
  },
  {
   "cell_type": "code",
   "execution_count": 17,
   "id": "8a57c993-fbba-47c4-88fd-fd4c8fc689b3",
   "metadata": {},
   "outputs": [
    {
     "name": "stdout",
     "output_type": "stream",
     "text": [
      "[[[ 2  4  6  8 10]\n",
      "  [ 1  3  5  7  9]]\n",
      "\n",
      " [[ 1  2  3  4  5]\n",
      "  [ 2  5  3  4  2]]\n",
      "\n",
      " [[ 2  3  2  5  8]\n",
      "  [ 2  4  6  8  1]]]\n",
      "5\n",
      "30\n",
      "[[[ 2  4  6  8 10]\n",
      "  [ 1  3  5  7  9]]\n",
      "\n",
      " [[ 1  2  3  4  5]\n",
      "  [ 2  5  3  4  2]]\n",
      "\n",
      " [[ 2  3  2  5  8]\n",
      "  [ 2  4  6  8  1]]]\n"
     ]
    }
   ],
   "source": [
    "threeD_arr=py.array([\n",
    "    [[2,4,6,8,10],[1,3,5,7,9]],\n",
    "    [[1,2,3,4,5],[2,5,3,4,2]],\n",
    "    [[2,3,2,5,8],[2,4,6,8,1]]\n",
    "])\n",
    "print(threeD_arr)\n",
    "print(threeD_arr[0,1,2])\n",
    "print((threeD_arr).size)\n",
    "print(threeD_arr.reshape(3,2,5))"
   ]
  },
  {
   "cell_type": "code",
   "execution_count": 22,
   "id": "ab7640c6-9f39-4491-a9d8-cd64e80a3fce",
   "metadata": {},
   "outputs": [],
   "source": [
    "twoD_arr=py.array([[2,4,6,8,10],[1,3,5,7,9],[1,2,3,4,5]])\n",
    "#2*twoD_arr\n",
    "# @(product fo the matrix)\n",
    "twoD_arr1=py.array([[2,4,6,8,10],[1,3,5,7,9],[1,2,3,4,5]])\n",
    "twoD_arr2=py.array([[2,4,6,8,10],[1,3,5,7,9],[1,2,3,4,5]])"
   ]
  },
  {
   "cell_type": "code",
   "execution_count": 24,
   "id": "6143b791-45bb-4213-b39d-3cbbc919b913",
   "metadata": {},
   "outputs": [
    {
     "data": {
      "text/plain": [
       "array([1, 5, 9])"
      ]
     },
     "execution_count": 24,
     "metadata": {},
     "output_type": "execute_result"
    }
   ],
   "source": [
    "num=np.array([[1,2,3],[4,5,6],[7,8,9]])\n",
    "#num.shape\n",
    "num.diagonal()"
   ]
  },
  {
   "cell_type": "code",
   "execution_count": 25,
   "id": "d0151a1b-6188-4bc2-bdf8-55a6ee5f9e38",
   "metadata": {},
   "outputs": [
    {
     "data": {
      "text/plain": [
       "array([1, 2, 3, 4, 5, 6, 7, 8, 9])"
      ]
     },
     "execution_count": 25,
     "metadata": {},
     "output_type": "execute_result"
    }
   ],
   "source": [
    "#get a 1-d array of all enteries\n",
    "num.flatten()"
   ]
  },
  {
   "cell_type": "code",
   "execution_count": 26,
   "id": "37044bdd-100c-4787-9ef9-b7828d88b097",
   "metadata": {},
   "outputs": [
    {
     "data": {
      "text/plain": [
       "np.int64(45)"
      ]
     },
     "execution_count": 26,
     "metadata": {},
     "output_type": "execute_result"
    }
   ],
   "source": [
    "#calculate the sum of all enteries\n",
    "num.sum()"
   ]
  },
  {
   "cell_type": "code",
   "execution_count": 27,
   "id": "b2de2be7-6434-4d4e-87b1-daccf3cad402",
   "metadata": {},
   "outputs": [
    {
     "data": {
      "text/plain": [
       "np.int64(1)"
      ]
     },
     "execution_count": 27,
     "metadata": {},
     "output_type": "execute_result"
    }
   ],
   "source": [
    "num.min()"
   ]
  },
  {
   "cell_type": "code",
   "execution_count": 28,
   "id": "54ee43d7-3328-4358-a417-00be4184e88a",
   "metadata": {},
   "outputs": [
    {
     "data": {
      "text/plain": [
       "np.int64(9)"
      ]
     },
     "execution_count": 28,
     "metadata": {},
     "output_type": "execute_result"
    }
   ],
   "source": [
    "num.max()"
   ]
  },
  {
   "cell_type": "markdown",
   "id": "a6ac8713-2d8f-4870-b63a-1bf0b715d7d3",
   "metadata": {},
   "source": [
    "<h3>stacking and shaping arrays:two arrays can be stacked vertically using np.vstack() </h3>"
   ]
  },
  {
   "cell_type": "code",
   "execution_count": 32,
   "id": "97fbe979-bc9b-4d18-b301-1e39b3ccf7c3",
   "metadata": {},
   "outputs": [
    {
     "data": {
      "text/plain": [
       "array([[1, 2, 3],\n",
       "       [4, 5, 6],\n",
       "       [7, 8, 9],\n",
       "       [3, 4, 7],\n",
       "       [4, 8, 6],\n",
       "       [2, 5, 9]])"
      ]
     },
     "execution_count": 32,
     "metadata": {},
     "output_type": "execute_result"
    }
   ],
   "source": [
    "num1=np.array([[1,2,3],[4,5,6],[7,8,9]])\n",
    "num2=np.array([[3,4,7],[4,8,6],[2,5,9]])\n",
    "np.hstack((num1,num2))\n",
    "np.vstack((num1,num2))\n"
   ]
  },
  {
   "cell_type": "markdown",
   "id": "6cad8936-3e61-4dee-8e99-8fc17a935a1b",
   "metadata": {},
   "source": [
    "<h3>arange() functio in numpy</h3>"
   ]
  },
  {
   "cell_type": "code",
   "execution_count": 34,
   "id": "35e9993a-9ad9-491b-921d-1417e8bf4bd1",
   "metadata": {},
   "outputs": [
    {
     "data": {
      "text/plain": [
       "array([ 1,  4,  7, 10])"
      ]
     },
     "execution_count": 34,
     "metadata": {},
     "output_type": "execute_result"
    }
   ],
   "source": [
    "import numpy\n",
    "seq=numpy.arange(1,11,3)\n",
    "seq"
   ]
  },
  {
   "cell_type": "markdown",
   "id": "76f7321c-499d-4c3c-96cc-b05f96133a81",
   "metadata": {},
   "source": [
    "<h3>create a 3x3 array named first_mat that include 3 through 11 by using arange() function and reshape the array object by 3x2x2</h3>"
   ]
  },
  {
   "cell_type": "code",
   "execution_count": 38,
   "id": "c44ffcd8-605b-4200-9a7b-fde30f26640a",
   "metadata": {},
   "outputs": [
    {
     "name": "stdout",
     "output_type": "stream",
     "text": [
      "[[[ 3]\n",
      "  [ 4]\n",
      "  [ 5]]\n",
      "\n",
      " [[ 6]\n",
      "  [ 7]\n",
      "  [ 8]]\n",
      "\n",
      " [[ 9]\n",
      "  [10]\n",
      "  [11]]]\n"
     ]
    }
   ],
   "source": [
    "first_mat=py.array([\n",
    "    [[2,4,6,8,10],[1,3,5,7,9]],\n",
    "    [[1,2,3,4,5],[2,5,3,4,2]],\n",
    "    [[2,3,2,5,8],[2,4,6,8,1]]\n",
    "])\n",
    "numbers=np.arange(3,12)\n",
    "first_mat=numbers.reshape(3,3,1)\n",
    "print(first_mat)"
   ]
  },
  {
   "cell_type": "markdown",
   "id": "b935695b-a04a-4909-8a28-333fe1cbe3cb",
   "metadata": {},
   "source": [
    "<h3>square every entry in first matrix using ** operator and save result in an array named second_mat</h3>"
   ]
  },
  {
   "cell_type": "code",
   "execution_count": 39,
   "id": "fd84ed9f-de0d-4a80-b73a-59d0fb0ea51b",
   "metadata": {},
   "outputs": [
    {
     "name": "stdout",
     "output_type": "stream",
     "text": [
      "[[ 1  4  9]\n",
      " [16 25 36]\n",
      " [49 64 81]]\n"
     ]
    }
   ],
   "source": [
    "num1=np.array([[1,2,3],[4,5,6],[7,8,9]])\n",
    "second_mat=num1**2\n",
    "print(second_mat)"
   ]
  },
  {
   "cell_type": "code",
   "execution_count": null,
   "id": "a344f441-c5b2-4a84-a15e-032be84b42f5",
   "metadata": {},
   "outputs": [],
   "source": []
  }
 ],
 "metadata": {
  "kernelspec": {
   "display_name": "Python 3 (ipykernel)",
   "language": "python",
   "name": "python3"
  },
  "language_info": {
   "codemirror_mode": {
    "name": "ipython",
    "version": 3
   },
   "file_extension": ".py",
   "mimetype": "text/x-python",
   "name": "python",
   "nbconvert_exporter": "python",
   "pygments_lexer": "ipython3",
   "version": "3.10.10"
  }
 },
 "nbformat": 4,
 "nbformat_minor": 5
}
